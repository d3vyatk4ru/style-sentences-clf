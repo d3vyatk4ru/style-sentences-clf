{
  "nbformat": 4,
  "nbformat_minor": 0,
  "metadata": {
    "colab": {
      "provenance": [],
      "toc_visible": true
    },
    "kernelspec": {
      "name": "python3",
      "display_name": "Python 3"
    },
    "language_info": {
      "name": "python"
    },
    "gpuClass": "standard",
    "accelerator": "GPU"
  },
  "cells": [
    {
      "cell_type": "code",
      "execution_count": null,
      "metadata": {
        "id": "MUSpdJk4rXXF"
      },
      "outputs": [],
      "source": [
        "# for dataframe\n",
        "import pandas as pd\n",
        "\n",
        "import matplotlib.pyplot as plt\n",
        "import numpy as np\n",
        "import itertools\n",
        "\n",
        "import os\n",
        "from random import seed\n",
        "from pathlib import Path\n",
        "\n",
        "!pip install nltk                                                \n",
        "from nltk.corpus import wordnet\n",
        "import nltk\n",
        "\n",
        "# tokenization\n",
        "from nltk.tokenize import word_tokenize\n",
        "nltk.download('punkt')\n",
        "\n",
        "# get bad symbols\n",
        "from string import punctuation\n",
        "\n",
        "# lemmatization\n",
        "!pip install pymorphy2\n",
        "import pymorphy2\n",
        "\n",
        "# regex\n",
        "import re\n",
        "\n",
        "import gensim.downloader as api\n",
        "\n",
        "# custom type\n",
        "from typing import List, Tuple, Dict\n",
        "\n",
        "#std lib with containers\n",
        "from collections import defaultdict\n",
        "from collections import Counter\n",
        "from itertools import chain\n",
        "\n",
        "# dl lib\n",
        "import torch\n",
        "from torch.utils.data import Dataset, DataLoader\n",
        "from torch.nn.utils.rnn import pack_sequence\n",
        "from torch.nn.functional import sigmoid, relu, elu, tanh\n",
        "from torch.nn import Module, Embedding, LSTM, RNN, GRU, Linear, Sequential, Dropout\n",
        "from torch.nn.utils.rnn import PackedSequence\n",
        "\n",
        "# split dataset\n",
        "from sklearn.model_selection import train_test_split\n",
        "\n",
        "# tf-idf features\n",
        "from sklearn.feature_extraction.text import TfidfVectorizer\n",
        "\n",
        "# log reg\n",
        "from sklearn.linear_model import LogisticRegression\n",
        "\n",
        "# metrics\n",
        "from sklearn.metrics import f1_score\n",
        "from sklearn.metrics import confusion_matrix\n",
        "\n",
        "# grad boosting\n",
        "!pip install catboost \n",
        "from catboost import CatBoostClassifier\n",
        "\n",
        "# optim params\n",
        "from sklearn.model_selection import GridSearchCV"
      ]
    },
    {
      "cell_type": "code",
      "source": [
        "try:\n",
        "    STOPWORDS = nltk.corpus.stopwords.words('russian')      \n",
        "except:\n",
        "    nltk.download('stopwords')\n",
        "    STOPWORDS = nltk.corpus.stopwords.words('russian')"
      ],
      "metadata": {
        "colab": {
          "base_uri": "https://localhost:8080/"
        },
        "id": "c-7f9m8FsoM0",
        "outputId": "e9635e9a-822f-4dc7-c422-4a13246c6101"
      },
      "execution_count": 2,
      "outputs": [
        {
          "output_type": "stream",
          "name": "stderr",
          "text": [
            "[nltk_data] Downloading package stopwords to /root/nltk_data...\n",
            "[nltk_data]   Unzipping corpora/stopwords.zip.\n"
          ]
        }
      ]
    },
    {
      "cell_type": "code",
      "source": [
        "df = pd.read_excel(\"/content/drive/MyDrive/data_style_text_predict/data.xlsx\")"
      ],
      "metadata": {
        "id": "ns8IRzL5rm_Q"
      },
      "execution_count": 3,
      "outputs": []
    },
    {
      "cell_type": "code",
      "source": [
        "df = df.drop([\"Unnamed: 0\"], axis=1)\n",
        "df"
      ],
      "metadata": {
        "id": "enDOxY5xrnRV",
        "colab": {
          "base_uri": "https://localhost:8080/",
          "height": 424
        },
        "outputId": "9b8e69c9-39e4-4ec7-eb24-6ae5e761e4f2"
      },
      "execution_count": 4,
      "outputs": [
        {
          "output_type": "execute_result",
          "data": {
            "text/plain": [
              "                                                   text  id\n",
              "0     Генетики исследовали ДНК 700 малагасийцев и вы...   0\n",
              "1      Но примерно тысячу лет назад они смешались с ...   0\n",
              "2         Он сопровождался вымиранием местной мегафауны   0\n",
              "3      Об этом сообщается в статье, опубликованной в...   0\n",
              "4      Основное население Мадагаскара составляют мал...   0\n",
              "...                                                 ...  ..\n",
              "2495  помнится знакомый, работал в вневедомственной ...   3\n",
              "2496                          А про саму зп ничего нет)   3\n",
              "2497  Донат в игре косметический и гриндится за внут...   3\n",
              "2498  Перевод: - Где мне достать такого же? ------ Л...   3\n",
              "2499  Не обращал внимания, просто привел цитату из с...   3\n",
              "\n",
              "[2500 rows x 2 columns]"
            ],
            "text/html": [
              "\n",
              "  <div id=\"df-573ee1be-350a-46d8-8666-cc97aaef99e9\">\n",
              "    <div class=\"colab-df-container\">\n",
              "      <div>\n",
              "<style scoped>\n",
              "    .dataframe tbody tr th:only-of-type {\n",
              "        vertical-align: middle;\n",
              "    }\n",
              "\n",
              "    .dataframe tbody tr th {\n",
              "        vertical-align: top;\n",
              "    }\n",
              "\n",
              "    .dataframe thead th {\n",
              "        text-align: right;\n",
              "    }\n",
              "</style>\n",
              "<table border=\"1\" class=\"dataframe\">\n",
              "  <thead>\n",
              "    <tr style=\"text-align: right;\">\n",
              "      <th></th>\n",
              "      <th>text</th>\n",
              "      <th>id</th>\n",
              "    </tr>\n",
              "  </thead>\n",
              "  <tbody>\n",
              "    <tr>\n",
              "      <th>0</th>\n",
              "      <td>Генетики исследовали ДНК 700 малагасийцев и вы...</td>\n",
              "      <td>0</td>\n",
              "    </tr>\n",
              "    <tr>\n",
              "      <th>1</th>\n",
              "      <td>Но примерно тысячу лет назад они смешались с ...</td>\n",
              "      <td>0</td>\n",
              "    </tr>\n",
              "    <tr>\n",
              "      <th>2</th>\n",
              "      <td>Он сопровождался вымиранием местной мегафауны</td>\n",
              "      <td>0</td>\n",
              "    </tr>\n",
              "    <tr>\n",
              "      <th>3</th>\n",
              "      <td>Об этом сообщается в статье, опубликованной в...</td>\n",
              "      <td>0</td>\n",
              "    </tr>\n",
              "    <tr>\n",
              "      <th>4</th>\n",
              "      <td>Основное население Мадагаскара составляют мал...</td>\n",
              "      <td>0</td>\n",
              "    </tr>\n",
              "    <tr>\n",
              "      <th>...</th>\n",
              "      <td>...</td>\n",
              "      <td>...</td>\n",
              "    </tr>\n",
              "    <tr>\n",
              "      <th>2495</th>\n",
              "      <td>помнится знакомый, работал в вневедомственной ...</td>\n",
              "      <td>3</td>\n",
              "    </tr>\n",
              "    <tr>\n",
              "      <th>2496</th>\n",
              "      <td>А про саму зп ничего нет)</td>\n",
              "      <td>3</td>\n",
              "    </tr>\n",
              "    <tr>\n",
              "      <th>2497</th>\n",
              "      <td>Донат в игре косметический и гриндится за внут...</td>\n",
              "      <td>3</td>\n",
              "    </tr>\n",
              "    <tr>\n",
              "      <th>2498</th>\n",
              "      <td>Перевод: - Где мне достать такого же? ------ Л...</td>\n",
              "      <td>3</td>\n",
              "    </tr>\n",
              "    <tr>\n",
              "      <th>2499</th>\n",
              "      <td>Не обращал внимания, просто привел цитату из с...</td>\n",
              "      <td>3</td>\n",
              "    </tr>\n",
              "  </tbody>\n",
              "</table>\n",
              "<p>2500 rows × 2 columns</p>\n",
              "</div>\n",
              "      <button class=\"colab-df-convert\" onclick=\"convertToInteractive('df-573ee1be-350a-46d8-8666-cc97aaef99e9')\"\n",
              "              title=\"Convert this dataframe to an interactive table.\"\n",
              "              style=\"display:none;\">\n",
              "        \n",
              "  <svg xmlns=\"http://www.w3.org/2000/svg\" height=\"24px\"viewBox=\"0 0 24 24\"\n",
              "       width=\"24px\">\n",
              "    <path d=\"M0 0h24v24H0V0z\" fill=\"none\"/>\n",
              "    <path d=\"M18.56 5.44l.94 2.06.94-2.06 2.06-.94-2.06-.94-.94-2.06-.94 2.06-2.06.94zm-11 1L8.5 8.5l.94-2.06 2.06-.94-2.06-.94L8.5 2.5l-.94 2.06-2.06.94zm10 10l.94 2.06.94-2.06 2.06-.94-2.06-.94-.94-2.06-.94 2.06-2.06.94z\"/><path d=\"M17.41 7.96l-1.37-1.37c-.4-.4-.92-.59-1.43-.59-.52 0-1.04.2-1.43.59L10.3 9.45l-7.72 7.72c-.78.78-.78 2.05 0 2.83L4 21.41c.39.39.9.59 1.41.59.51 0 1.02-.2 1.41-.59l7.78-7.78 2.81-2.81c.8-.78.8-2.07 0-2.86zM5.41 20L4 18.59l7.72-7.72 1.47 1.35L5.41 20z\"/>\n",
              "  </svg>\n",
              "      </button>\n",
              "      \n",
              "  <style>\n",
              "    .colab-df-container {\n",
              "      display:flex;\n",
              "      flex-wrap:wrap;\n",
              "      gap: 12px;\n",
              "    }\n",
              "\n",
              "    .colab-df-convert {\n",
              "      background-color: #E8F0FE;\n",
              "      border: none;\n",
              "      border-radius: 50%;\n",
              "      cursor: pointer;\n",
              "      display: none;\n",
              "      fill: #1967D2;\n",
              "      height: 32px;\n",
              "      padding: 0 0 0 0;\n",
              "      width: 32px;\n",
              "    }\n",
              "\n",
              "    .colab-df-convert:hover {\n",
              "      background-color: #E2EBFA;\n",
              "      box-shadow: 0px 1px 2px rgba(60, 64, 67, 0.3), 0px 1px 3px 1px rgba(60, 64, 67, 0.15);\n",
              "      fill: #174EA6;\n",
              "    }\n",
              "\n",
              "    [theme=dark] .colab-df-convert {\n",
              "      background-color: #3B4455;\n",
              "      fill: #D2E3FC;\n",
              "    }\n",
              "\n",
              "    [theme=dark] .colab-df-convert:hover {\n",
              "      background-color: #434B5C;\n",
              "      box-shadow: 0px 1px 3px 1px rgba(0, 0, 0, 0.15);\n",
              "      filter: drop-shadow(0px 1px 2px rgba(0, 0, 0, 0.3));\n",
              "      fill: #FFFFFF;\n",
              "    }\n",
              "  </style>\n",
              "\n",
              "      <script>\n",
              "        const buttonEl =\n",
              "          document.querySelector('#df-573ee1be-350a-46d8-8666-cc97aaef99e9 button.colab-df-convert');\n",
              "        buttonEl.style.display =\n",
              "          google.colab.kernel.accessAllowed ? 'block' : 'none';\n",
              "\n",
              "        async function convertToInteractive(key) {\n",
              "          const element = document.querySelector('#df-573ee1be-350a-46d8-8666-cc97aaef99e9');\n",
              "          const dataTable =\n",
              "            await google.colab.kernel.invokeFunction('convertToInteractive',\n",
              "                                                     [key], {});\n",
              "          if (!dataTable) return;\n",
              "\n",
              "          const docLinkHtml = 'Like what you see? Visit the ' +\n",
              "            '<a target=\"_blank\" href=https://colab.research.google.com/notebooks/data_table.ipynb>data table notebook</a>'\n",
              "            + ' to learn more about interactive tables.';\n",
              "          element.innerHTML = '';\n",
              "          dataTable['output_type'] = 'display_data';\n",
              "          await google.colab.output.renderOutput(dataTable, element);\n",
              "          const docLink = document.createElement('div');\n",
              "          docLink.innerHTML = docLinkHtml;\n",
              "          element.appendChild(docLink);\n",
              "        }\n",
              "      </script>\n",
              "    </div>\n",
              "  </div>\n",
              "  "
            ]
          },
          "metadata": {},
          "execution_count": 4
        }
      ]
    },
    {
      "cell_type": "code",
      "source": [
        "def plot_confusion_matrix(cm, classes,\n",
        "                          normalize=False,\n",
        "                          title='Confusion matrix',\n",
        "                          cmap=plt.cm.Blues):\n",
        "    \"\"\"\n",
        "    This function prints and plots the confusion matrix.\n",
        "    Normalization can be applied by setting `normalize=True`.\n",
        "    \"\"\"\n",
        "    plt.figure(figsize=(7, 7))\n",
        "    plt.imshow(cm, interpolation='nearest', cmap=cmap)\n",
        "    plt.title(title)\n",
        "    plt.colorbar()\n",
        "    tick_marks = np.arange(len(classes))\n",
        "    plt.xticks(tick_marks, classes, rotation=45)\n",
        "    plt.yticks(tick_marks, classes)\n",
        "\n",
        "    if normalize:\n",
        "        cm = cm.astype('float') / cm.sum(axis=1)[:, np.newaxis]\n",
        "        print(\"Normalized confusion matrix\")\n",
        "    else:\n",
        "        print('Confusion matrix, without normalization')\n",
        "\n",
        "    print(cm)\n",
        "\n",
        "    thresh = cm.max() / 2.\n",
        "    for i, j in itertools.product(range(cm.shape[0]), range(cm.shape[1])):\n",
        "        plt.text(j, i, cm[i, j],\n",
        "                 horizontalalignment=\"center\",\n",
        "                 color=\"white\" if cm[i, j] > thresh else \"black\")\n",
        "\n",
        "    plt.tight_layout()\n",
        "    plt.ylabel('True label')\n",
        "    plt.xlabel('Predicted label')"
      ],
      "metadata": {
        "id": "jl51V4Q9B39E"
      },
      "execution_count": 5,
      "outputs": []
    },
    {
      "cell_type": "code",
      "source": [
        "def text_preproccesing(df: pd.DataFrame) -> pd.DataFrame:\n",
        "\n",
        "    df['text'] = df['text'].apply(lambda x : x.split(' '))\n",
        "    \n",
        "    df['text'] = df['text'].map(lambda x: [token.lower() for token in x if token != ' '\\\n",
        "                                                                  and token.strip() not in punctuation])\n",
        "\n",
        "    df['text'] = df['text'].map(lambda x : ' '.join([word for word in x]))\n",
        "\n",
        "    bad_symbols = punctuation + \"«'»•—²�®❗️012345679\"\n",
        "\n",
        "    def remove_bad_symbols(text):\n",
        "        return text.translate(str.maketrans(bad_symbols, ' ' * len(bad_symbols)))\n",
        "\n",
        "    # удаление пунктуации, цифр и других неестественных символов\n",
        "    df['text'] = df['text'].map(lambda x: remove_bad_symbols(x))\n",
        "\n",
        "    # лемматизация \n",
        "    lemmatizer =  pymorphy2.MorphAnalyzer()\n",
        "    df['text']  = df['text'].apply(lambda x: [lemmatizer.parse(word)[0].normal_form for word in str(x).split()])\n",
        "\n",
        "    df['text'] = df['text'].apply(lambda x : ' '.join(x))\n",
        "\n",
        "    df['id'] = df['id'].apply(lambda x : int(x))\n",
        "\n",
        "    return df"
      ],
      "metadata": {
        "id": "Nsk7r8MesYmh"
      },
      "execution_count": 6,
      "outputs": []
    },
    {
      "cell_type": "code",
      "source": [
        "df_preproccesing = text_preproccesing(df)\n",
        "df_preproccesing"
      ],
      "metadata": {
        "id": "OIQD1IfmrnT1",
        "colab": {
          "base_uri": "https://localhost:8080/",
          "height": 424
        },
        "outputId": "b4331b61-28dc-41ef-ca2f-0371149a66a7"
      },
      "execution_count": 7,
      "outputs": [
        {
          "output_type": "execute_result",
          "data": {
            "text/plain": [
              "                                                   text  id\n",
              "0     генетика исследовать днк малагасиец и выяснить...   0\n",
              "1     но примерно тысяча год назад они смешаться с в...   0\n",
              "2         он сопровождаться вымирание местный мегафауна   0\n",
              "3     о это сообщаться в статья опубликовать в журна...   0\n",
              "4     основный население мадагаскар составлять малаг...   0\n",
              "...                                                 ...  ..\n",
              "2495  помнится знакомый работать в вневедомственный ...   3\n",
              "2496                            а про сам зп ничего нет   3\n",
              "2497  донат в игра косметический и гриндиться за вну...   3\n",
              "2498  перевод где я достать такой же легально они уж...   3\n",
              "2499  не обращать внимание просто привести цитата из...   3\n",
              "\n",
              "[2500 rows x 2 columns]"
            ],
            "text/html": [
              "\n",
              "  <div id=\"df-804564c7-95ed-4dbd-a14a-d2acbaf4d85d\">\n",
              "    <div class=\"colab-df-container\">\n",
              "      <div>\n",
              "<style scoped>\n",
              "    .dataframe tbody tr th:only-of-type {\n",
              "        vertical-align: middle;\n",
              "    }\n",
              "\n",
              "    .dataframe tbody tr th {\n",
              "        vertical-align: top;\n",
              "    }\n",
              "\n",
              "    .dataframe thead th {\n",
              "        text-align: right;\n",
              "    }\n",
              "</style>\n",
              "<table border=\"1\" class=\"dataframe\">\n",
              "  <thead>\n",
              "    <tr style=\"text-align: right;\">\n",
              "      <th></th>\n",
              "      <th>text</th>\n",
              "      <th>id</th>\n",
              "    </tr>\n",
              "  </thead>\n",
              "  <tbody>\n",
              "    <tr>\n",
              "      <th>0</th>\n",
              "      <td>генетика исследовать днк малагасиец и выяснить...</td>\n",
              "      <td>0</td>\n",
              "    </tr>\n",
              "    <tr>\n",
              "      <th>1</th>\n",
              "      <td>но примерно тысяча год назад они смешаться с в...</td>\n",
              "      <td>0</td>\n",
              "    </tr>\n",
              "    <tr>\n",
              "      <th>2</th>\n",
              "      <td>он сопровождаться вымирание местный мегафауна</td>\n",
              "      <td>0</td>\n",
              "    </tr>\n",
              "    <tr>\n",
              "      <th>3</th>\n",
              "      <td>о это сообщаться в статья опубликовать в журна...</td>\n",
              "      <td>0</td>\n",
              "    </tr>\n",
              "    <tr>\n",
              "      <th>4</th>\n",
              "      <td>основный население мадагаскар составлять малаг...</td>\n",
              "      <td>0</td>\n",
              "    </tr>\n",
              "    <tr>\n",
              "      <th>...</th>\n",
              "      <td>...</td>\n",
              "      <td>...</td>\n",
              "    </tr>\n",
              "    <tr>\n",
              "      <th>2495</th>\n",
              "      <td>помнится знакомый работать в вневедомственный ...</td>\n",
              "      <td>3</td>\n",
              "    </tr>\n",
              "    <tr>\n",
              "      <th>2496</th>\n",
              "      <td>а про сам зп ничего нет</td>\n",
              "      <td>3</td>\n",
              "    </tr>\n",
              "    <tr>\n",
              "      <th>2497</th>\n",
              "      <td>донат в игра косметический и гриндиться за вну...</td>\n",
              "      <td>3</td>\n",
              "    </tr>\n",
              "    <tr>\n",
              "      <th>2498</th>\n",
              "      <td>перевод где я достать такой же легально они уж...</td>\n",
              "      <td>3</td>\n",
              "    </tr>\n",
              "    <tr>\n",
              "      <th>2499</th>\n",
              "      <td>не обращать внимание просто привести цитата из...</td>\n",
              "      <td>3</td>\n",
              "    </tr>\n",
              "  </tbody>\n",
              "</table>\n",
              "<p>2500 rows × 2 columns</p>\n",
              "</div>\n",
              "      <button class=\"colab-df-convert\" onclick=\"convertToInteractive('df-804564c7-95ed-4dbd-a14a-d2acbaf4d85d')\"\n",
              "              title=\"Convert this dataframe to an interactive table.\"\n",
              "              style=\"display:none;\">\n",
              "        \n",
              "  <svg xmlns=\"http://www.w3.org/2000/svg\" height=\"24px\"viewBox=\"0 0 24 24\"\n",
              "       width=\"24px\">\n",
              "    <path d=\"M0 0h24v24H0V0z\" fill=\"none\"/>\n",
              "    <path d=\"M18.56 5.44l.94 2.06.94-2.06 2.06-.94-2.06-.94-.94-2.06-.94 2.06-2.06.94zm-11 1L8.5 8.5l.94-2.06 2.06-.94-2.06-.94L8.5 2.5l-.94 2.06-2.06.94zm10 10l.94 2.06.94-2.06 2.06-.94-2.06-.94-.94-2.06-.94 2.06-2.06.94z\"/><path d=\"M17.41 7.96l-1.37-1.37c-.4-.4-.92-.59-1.43-.59-.52 0-1.04.2-1.43.59L10.3 9.45l-7.72 7.72c-.78.78-.78 2.05 0 2.83L4 21.41c.39.39.9.59 1.41.59.51 0 1.02-.2 1.41-.59l7.78-7.78 2.81-2.81c.8-.78.8-2.07 0-2.86zM5.41 20L4 18.59l7.72-7.72 1.47 1.35L5.41 20z\"/>\n",
              "  </svg>\n",
              "      </button>\n",
              "      \n",
              "  <style>\n",
              "    .colab-df-container {\n",
              "      display:flex;\n",
              "      flex-wrap:wrap;\n",
              "      gap: 12px;\n",
              "    }\n",
              "\n",
              "    .colab-df-convert {\n",
              "      background-color: #E8F0FE;\n",
              "      border: none;\n",
              "      border-radius: 50%;\n",
              "      cursor: pointer;\n",
              "      display: none;\n",
              "      fill: #1967D2;\n",
              "      height: 32px;\n",
              "      padding: 0 0 0 0;\n",
              "      width: 32px;\n",
              "    }\n",
              "\n",
              "    .colab-df-convert:hover {\n",
              "      background-color: #E2EBFA;\n",
              "      box-shadow: 0px 1px 2px rgba(60, 64, 67, 0.3), 0px 1px 3px 1px rgba(60, 64, 67, 0.15);\n",
              "      fill: #174EA6;\n",
              "    }\n",
              "\n",
              "    [theme=dark] .colab-df-convert {\n",
              "      background-color: #3B4455;\n",
              "      fill: #D2E3FC;\n",
              "    }\n",
              "\n",
              "    [theme=dark] .colab-df-convert:hover {\n",
              "      background-color: #434B5C;\n",
              "      box-shadow: 0px 1px 3px 1px rgba(0, 0, 0, 0.15);\n",
              "      filter: drop-shadow(0px 1px 2px rgba(0, 0, 0, 0.3));\n",
              "      fill: #FFFFFF;\n",
              "    }\n",
              "  </style>\n",
              "\n",
              "      <script>\n",
              "        const buttonEl =\n",
              "          document.querySelector('#df-804564c7-95ed-4dbd-a14a-d2acbaf4d85d button.colab-df-convert');\n",
              "        buttonEl.style.display =\n",
              "          google.colab.kernel.accessAllowed ? 'block' : 'none';\n",
              "\n",
              "        async function convertToInteractive(key) {\n",
              "          const element = document.querySelector('#df-804564c7-95ed-4dbd-a14a-d2acbaf4d85d');\n",
              "          const dataTable =\n",
              "            await google.colab.kernel.invokeFunction('convertToInteractive',\n",
              "                                                     [key], {});\n",
              "          if (!dataTable) return;\n",
              "\n",
              "          const docLinkHtml = 'Like what you see? Visit the ' +\n",
              "            '<a target=\"_blank\" href=https://colab.research.google.com/notebooks/data_table.ipynb>data table notebook</a>'\n",
              "            + ' to learn more about interactive tables.';\n",
              "          element.innerHTML = '';\n",
              "          dataTable['output_type'] = 'display_data';\n",
              "          await google.colab.output.renderOutput(dataTable, element);\n",
              "          const docLink = document.createElement('div');\n",
              "          docLink.innerHTML = docLinkHtml;\n",
              "          element.appendChild(docLink);\n",
              "        }\n",
              "      </script>\n",
              "    </div>\n",
              "  </div>\n",
              "  "
            ]
          },
          "metadata": {},
          "execution_count": 7
        }
      ]
    },
    {
      "cell_type": "markdown",
      "source": [
        "### Classical ML подход"
      ],
      "metadata": {
        "id": "8e0k8W1UZhhb"
      }
    },
    {
      "cell_type": "code",
      "source": [
        "tfidf_features = TfidfVectorizer(\n",
        "    ngram_range=(1, 3),\n",
        "    min_df=1,\n",
        "    analyzer='word',\n",
        "    max_features=50_000,\n",
        "    smooth_idf=False,\n",
        ")"
      ],
      "metadata": {
        "id": "YOtT7l25ZbXy"
      },
      "execution_count": 8,
      "outputs": []
    },
    {
      "cell_type": "code",
      "source": [
        "X_train, X_test, y_train, y_test = train_test_split(\n",
        "    df_preproccesing.text.values,\n",
        "    df_preproccesing.id.values,\n",
        "    test_size=0.1,\n",
        "    random_state=31,\n",
        ")"
      ],
      "metadata": {
        "id": "o3LEtKsGlBUV"
      },
      "execution_count": 9,
      "outputs": []
    },
    {
      "cell_type": "code",
      "source": [
        "# create tf-idf feature\n",
        "\n",
        "X_train = tfidf_features.fit_transform(X_train)\n",
        "X_test = tfidf_features.transform(X_test)"
      ],
      "metadata": {
        "id": "c6bUu0FNlDSU"
      },
      "execution_count": 10,
      "outputs": []
    },
    {
      "cell_type": "code",
      "source": [
        "log_reg = LogisticRegression(\n",
        "    max_iter=2000,\n",
        "    solver='liblinear',\n",
        "    penalty='l2',\n",
        "    C=1000,\n",
        ")\n",
        "\n",
        "log_reg.fit(X_train, y_train)"
      ],
      "metadata": {
        "colab": {
          "base_uri": "https://localhost:8080/"
        },
        "id": "1Q21TelzaMGV",
        "outputId": "e4382c04-9e19-4678-896b-507ba211f7fb"
      },
      "execution_count": 11,
      "outputs": [
        {
          "output_type": "execute_result",
          "data": {
            "text/plain": [
              "LogisticRegression(C=1000, max_iter=2000, solver='liblinear')"
            ]
          },
          "metadata": {},
          "execution_count": 11
        }
      ]
    },
    {
      "cell_type": "code",
      "source": [
        "y_pred = log_reg.predict(X_test)\n",
        "\n",
        "F1_score = f1_score(\n",
        "    y_pred,\n",
        "    y_test,\n",
        "    average=\"micro\",\n",
        ")\n",
        "\n",
        "conf_mat = confusion_matrix(y_test, y_pred)\n",
        "\n",
        "print(f'F1: {F1_score}')"
      ],
      "metadata": {
        "colab": {
          "base_uri": "https://localhost:8080/"
        },
        "id": "ACwBpFQTlGB3",
        "outputId": "064cd37e-d75a-4bbc-b6fc-ee276378f1ed"
      },
      "execution_count": 12,
      "outputs": [
        {
          "output_type": "stream",
          "name": "stdout",
          "text": [
            "F1: 0.908\n"
          ]
        }
      ]
    },
    {
      "cell_type": "code",
      "source": [
        "\n",
        "plot_confusion_matrix(conf_mat, [\n",
        "    \"Scientific style\", \n",
        "    \"Official-business style\",\n",
        "    \"Journalistic style\",\n",
        "    \"Conversation style\", \n",
        "    \"Art style\"])"
      ],
      "metadata": {
        "colab": {
          "base_uri": "https://localhost:8080/",
          "height": 599
        },
        "id": "fly1ldmNB_Ep",
        "outputId": "656cd8f6-7c4c-459d-c615-7073282586ec"
      },
      "execution_count": 13,
      "outputs": [
        {
          "output_type": "stream",
          "name": "stdout",
          "text": [
            "Confusion matrix, without normalization\n",
            "[[55  1  1  0  0]\n",
            " [ 1 43  1  0  0]\n",
            " [ 0  0 39  0  3]\n",
            " [ 1  0  3 48  7]\n",
            " [ 2  0  0  3 42]]\n"
          ]
        },
        {
          "output_type": "display_data",
          "data": {
            "text/plain": [
              "<Figure size 504x504 with 2 Axes>"
            ],
            "image/png": "[encoded data removed]"
          },
          "metadata": {
            "needs_background": "light"
          }
        }
      ]
    },
    {
      "cell_type": "markdown",
      "source": [
        "### DL подход"
      ],
      "metadata": {
        "id": "3i4Pg4H9ZcMa"
      }
    },
    {
      "cell_type": "code",
      "source": [
        "class Vocab:\n",
        "    def __init__(self, tokenized_texts: List[List[str]], max_vocab_size: int = None) -> None:\n",
        "        \"\"\"\n",
        "        Создает словарь путем объединения всех токенизированных текстов и подсчета слов.\n",
        "        Самые частые слова помещаются в словарь, остальные заменяются токеном [UNK].\n",
        "        :param tokenized_texts: текст для построения словаря\n",
        "        :param max_vocab_size: количество слов в словаре\n",
        "        \"\"\"\n",
        "        counts = Counter(chain(*tokenized_texts))\n",
        "\n",
        "        # сколько слов учитываем\n",
        "        max_vocab_size = max_vocab_size or len(counts)\n",
        "\n",
        "        # каждому токену ставится в соответствиее число - сколько раз встретился в тексте\n",
        "        common_pairs = counts.most_common(max_vocab_size)\n",
        "\n",
        "        # падинг\n",
        "        self.PAD_IDX = 0\n",
        "\n",
        "        # неизвестный токен\n",
        "        self.UNK_IDX = 1\n",
        "\n",
        "        # конец предложения\n",
        "        self.EOS_IDX = 2\n",
        "\n",
        "        self.itos = [\"<PAD>\", \"<UNK>\", \"<EOS>\"] + [pair[0] for pair in common_pairs]\n",
        "\n",
        "        # соответствие token -> idx\n",
        "        self.stoi = {\n",
        "            token: i for i, token in enumerate(self.itos)\n",
        "        }\n",
        "\n",
        "    def vectorize(self, text: List[str]) -> List[int]:\n",
        "        \"\"\"\n",
        "        Сопоставляет каждому токену индекс в словаре\n",
        "        :param text: последовательность токенов\n",
        "        \"\"\"\n",
        "        return [\n",
        "            self.stoi.get(tok, self.UNK_IDX) for tok in text\n",
        "        ]\n",
        "\n",
        "    def __iter__(self):\n",
        "        return iter(self.itos)\n",
        "\n",
        "    def __len__(self) -> int:\n",
        "        return len(self.itos)"
      ],
      "metadata": {
        "id": "xrMniTCXsBrm"
      },
      "execution_count": 14,
      "outputs": []
    },
    {
      "cell_type": "code",
      "source": [
        "class TextDataset(Dataset):\n",
        "    def __init__(self, tokenized_texts, labels: int, vocab: Vocab) -> None:\n",
        "\n",
        "        self.texts = tokenized_texts\n",
        "        self.labels = labels\n",
        "        self.vocab = vocab\n",
        "\n",
        "    def __getitem__(self, item) -> Tuple[List, int]:\n",
        "        return self.vocab.vectorize(self.texts[item]) + [self.vocab.EOS_IDX], self.labels[item]\n",
        "\n",
        "    def __len__(self) -> int:\n",
        "        return len(self.texts)\n",
        "    \n",
        "    def collate_fn(self, batch):\n",
        "        # чтобы не делать честный паддинг (дорого при вычислениях), делаем pack\n",
        "        return pack_sequence([torch.tensor(pair[0]) for pair in batch], enforce_sorted=False), torch.tensor(\n",
        "            [pair[1] for pair in batch])\n"
      ],
      "metadata": {
        "id": "_yLCu5yCCJlD"
      },
      "execution_count": 15,
      "outputs": []
    },
    {
      "cell_type": "code",
      "source": [
        "def prepare_emb_matrix(gensim_model, vocab: Vocab):\n",
        "\n",
        "    mean = gensim_model.vectors.mean(1).mean()\n",
        "    std = gensim_model.vectors.std(1).mean()\n",
        "    vec_size = gensim_model.vector_size\n",
        "    emb_matrix = torch.zeros((len(vocab), vec_size))\n",
        "    for i, word in enumerate(vocab.itos[1:], 1):\n",
        "        try:\n",
        "            emb_matrix[i] = torch.tensor(gensim_model.get_vector(word))\n",
        "        except KeyError:\n",
        "            emb_matrix[i] = torch.randn(vec_size) * std + mean\n",
        "    return emb_matrix"
      ],
      "metadata": {
        "id": "tp3yigzfvEOJ"
      },
      "execution_count": 16,
      "outputs": []
    },
    {
      "cell_type": "code",
      "source": [
        "class RecurrentClassifier(Module):\n",
        "    def __init__(self, vocab: Vocab, emb_matrix):\n",
        "\n",
        "        super().__init__()\n",
        "        self.vocab = vocab\n",
        "        self.emb_matrix = emb_matrix\n",
        "        self.embeddings = Embedding.from_pretrained(emb_matrix, freeze=True,\n",
        "                                                    padding_idx=vocab.PAD_IDX)\n",
        "\n",
        "        self.cell = GRU(input_size=emb_matrix.size(1),\n",
        "                               batch_first=True,\n",
        "                               hidden_size=16,\n",
        "                               num_layers=1,\n",
        "                               dropout=0.05,\n",
        "                               bidirectional=True,\n",
        "                               )\n",
        "\n",
        "        self.out_activation = relu\n",
        "        self.out_dropout = Dropout(0.05)\n",
        "\n",
        "        cur_out_size = 32\n",
        "\n",
        "        out_layers = []\n",
        "\n",
        "        for cur_hidden_size in [8]:\n",
        "            out_layers.append(Linear(cur_out_size, cur_hidden_size))\n",
        "            cur_out_size = cur_hidden_size\n",
        "\n",
        "        out_layers.append(Linear(cur_out_size, 5))\n",
        "\n",
        "        self.out_proj = Sequential(*out_layers)\n",
        "\n",
        "    def forward(self, input):\n",
        "        embedded = self.embeddings(input.data)\n",
        "        _, last_state = self.cell(PackedSequence(embedded,\n",
        "                                                 input.batch_sizes,\n",
        "                                                 sorted_indices=input.sorted_indices,\n",
        "                                                 unsorted_indices=input.unsorted_indices))\n",
        "        if isinstance(last_state, tuple):\n",
        "            last_state = last_state[0]\n",
        "        last_state = last_state.transpose(0, 1)\n",
        "        last_state = last_state.reshape(last_state.size(0), -1)\n",
        "        return self.out_proj(last_state)"
      ],
      "metadata": {
        "id": "cuIkdz6yqHuA"
      },
      "execution_count": 24,
      "outputs": []
    },
    {
      "cell_type": "code",
      "source": [
        "from typing import Dict\n",
        "\n",
        "import torch\n",
        "from numpy import asarray\n",
        "from torch.nn import CrossEntropyLoss\n",
        "from torch.optim import Adam\n",
        "from tqdm.notebook import tqdm\n",
        "\n",
        "\n",
        "class Trainer:\n",
        "    def __init__(self, config: Dict):\n",
        "\n",
        "        self.config = config\n",
        "        self.n_epochs = config[\"n_epochs\"]\n",
        "        self.setup_opt_fn = lambda model: Adam(model.parameters(),\n",
        "                                               config[\"lr\"],\n",
        "                                               weight_decay=config[\"weight_decay\"])\n",
        "        self.lr = config[\"lr\"]\n",
        "        self.model = None\n",
        "        self.opt = None\n",
        "        self.history = None\n",
        "        self.loss_fn = CrossEntropyLoss()\n",
        "        self.device = config[\"device\"]\n",
        "        self.verbose = True\n",
        "\n",
        "    def fit(self, model, train_loader, val_loader):\n",
        "\n",
        "        self.model = model.to(self.device)\n",
        "        self.opt = self.setup_opt_fn(self.model)\n",
        "        self.history = {\"train_loss\": [], \"val_loss\": [], \"val_acc\": []}\n",
        "        for epoch in range(self.n_epochs):\n",
        "            train_info = self._train_epoch(train_loader)\n",
        "            val_info = self._val_epoch(val_loader)\n",
        "            self.history[\"train_loss\"].extend(train_info[\"train_loss\"])\n",
        "            self.history[\"val_loss\"].append(val_info[\"loss\"])\n",
        "            self.history[\"val_acc\"].append(val_info[\"acc\"])\n",
        "        return self.model.eval()\n",
        "\n",
        "    def _train_epoch(self, train_loader):\n",
        "        self.model.train()\n",
        "        losses = []\n",
        "        if self.verbose:\n",
        "            train_loader = tqdm(train_loader)\n",
        "        for batch in train_loader:\n",
        "            self.model.zero_grad()\n",
        "            texts, labels = batch\n",
        "            logits = self.model.forward(texts.to(self.device))\n",
        "            loss = self.loss_fn(logits, labels.to(self.device))\n",
        "            loss.backward()\n",
        "            self.opt.step()\n",
        "            loss_val = loss.item()\n",
        "            if self.verbose:\n",
        "                train_loader.set_description(f\"Loss={loss_val:.3}\")\n",
        "            losses.append(loss_val)\n",
        "        return {\"train_loss\": losses}\n",
        "\n",
        "    def _val_epoch(self, val_loader):\n",
        "        self.model.eval()\n",
        "        all_logits = []\n",
        "        all_labels = []\n",
        "        if self.verbose:\n",
        "            val_loader = tqdm(val_loader)\n",
        "        with torch.no_grad():\n",
        "            for batch in val_loader:\n",
        "                texts, labels = batch\n",
        "                logits = self.model.forward(texts.to(self.device))\n",
        "                all_logits.append(logits)\n",
        "                all_labels.append(labels)\n",
        "        all_labels = torch.cat(all_labels).to(self.device)\n",
        "        all_logits = torch.cat(all_logits)\n",
        "        loss = CrossEntropyLoss()(all_logits, all_labels).item()\n",
        "        acc = (all_logits.argmax(1) == all_labels).float().mean().item()\n",
        "        if self.verbose:\n",
        "            print(f\"Loss={loss:.3}; Acc:{acc:.3}\")\n",
        "            val_loader.set_description(f\"Loss={loss:.3}; Acc:{acc:.3}\")\n",
        "            \n",
        "        self.save(f'./{int(acc * 1000)}.ckpt')\n",
        "        return {\"acc\": acc, \"loss\": loss}\n",
        "\n",
        "    def predict(self, test_loader):\n",
        "        if self.model is None:\n",
        "            raise RuntimeError(\"You should train the model first\")\n",
        "        self.model.eval()\n",
        "        predictions = []\n",
        "        with torch.no_grad():\n",
        "            for batch in test_loader:\n",
        "                texts, labels = batch\n",
        "                logits = self.model.forward(texts.to(self.device))\n",
        "                predictions.extend(logits.argmax(1).tolist())\n",
        "        return asarray(predictions)\n",
        "\n",
        "    def save(self, path: str):\n",
        "        if self.model is None:\n",
        "            raise RuntimeError(\"You should train the model first\")\n",
        "        checkpoint = {\n",
        "                      \"trainer_config\": self.config,\n",
        "                      \"vocab\": self.model.vocab,\n",
        "                      \"emb_matrix\": self.model.emb_matrix,\n",
        "                      \"state_dict\": self.model.state_dict(),\n",
        "                      }\n",
        "        torch.save(checkpoint, path)\n",
        "\n",
        "    @classmethod\n",
        "    def load(cls, path: str):\n",
        "        ckpt = torch.load(path)\n",
        "        keys = [\"config\", \"trainer_config\", \"vocab\", \"emb_matrix\", \"state_dict\"]\n",
        "        for key in keys:\n",
        "            if key not in ckpt:\n",
        "                raise RuntimeError(f\"Missing key {key} in checkpoint\")\n",
        "        new_model = RecurrentClassifier(ckpt[\"config\"], ckpt[\"vocab\"], ckpt[\"emb_matrix\"])\n",
        "        new_model.load_state_dict(ckpt[\"state_dict\"])\n",
        "        new_trainer = cls(ckpt[\"trainer_config\"])\n",
        "        new_trainer.model = new_model\n",
        "        new_trainer.model.to(new_trainer.device)\n",
        "        return new_trainer\n"
      ],
      "metadata": {
        "id": "5_mU3VG9vv-s"
      },
      "execution_count": 33,
      "outputs": []
    },
    {
      "cell_type": "code",
      "source": [
        "tok_texts = [\n",
        "   word_tokenize(t, language=\"russian\") for t in df_preproccesing.text.values\n",
        "]\n",
        "\n",
        "vocab = Vocab(tok_texts, max_vocab_size=25_000)"
      ],
      "metadata": {
        "id": "F8Tn0QnP78pa"
      },
      "execution_count": 26,
      "outputs": []
    },
    {
      "cell_type": "code",
      "source": [
        "# store embeddings in current directory\n",
        "os.environ[\"GENSIM_DATA_DIR\"] = str(Path.cwd())\n",
        "# will download embeddings or load them from disk\n",
        "gensim_model = api.load(\"word2vec-ruscorpora-300\")\n",
        "emb_matrix = prepare_emb_matrix(gensim_model, vocab)"
      ],
      "metadata": {
        "id": "l0OiVcS5rY_f"
      },
      "execution_count": 27,
      "outputs": []
    },
    {
      "cell_type": "code",
      "source": [
        "train_texts, val_texts, train_labels, val_labels = train_test_split(\n",
        "    df_preproccesing.text.values,\n",
        "    df_preproccesing.id.values,\n",
        "    test_size=0.1,\n",
        ")\n",
        "\n",
        "\n",
        "train_dataset = TextDataset(\n",
        "    [word_tokenize(t, language=\"russian\") for t in train_texts],\n",
        "    train_labels,\n",
        "    vocab\n",
        ")\n",
        "\n",
        "val_dataset = TextDataset(\n",
        "    [word_tokenize(t, language=\"russian\") for t in val_texts],\n",
        "    val_labels,\n",
        "    vocab\n",
        ")"
      ],
      "metadata": {
        "id": "ctnVN84AwPek"
      },
      "execution_count": 28,
      "outputs": []
    },
    {
      "cell_type": "code",
      "source": [
        "\n",
        "clf_model = RecurrentClassifier(vocab, emb_matrix)"
      ],
      "metadata": {
        "id": "0gZ8OEmO7e0D"
      },
      "execution_count": 31,
      "outputs": []
    },
    {
      "cell_type": "code",
      "source": [
        "trainer_config = {\n",
        "    \"lr\": 3e-3,\n",
        "    \"n_epochs\": 20,\n",
        "    \"weight_decay\": 1e-6,\n",
        "    \"batch_size\": 64,\n",
        "    \"device\": \"cuda\" if torch.cuda.is_available() else \"cpu\"\n",
        "}\n",
        "\n",
        "train_dataloader = DataLoader(train_dataset, \n",
        "                              batch_size=trainer_config[\"batch_size\"],\n",
        "                              shuffle=True,\n",
        "                              num_workers=2,\n",
        "                              collate_fn=train_dataset.collate_fn)\n",
        "\n",
        "val_dataloader = DataLoader(val_dataset, \n",
        "                            batch_size=trainer_config[\"batch_size\"],\n",
        "                            shuffle=False,\n",
        "                            num_workers=2,\n",
        "                            collate_fn=val_dataset.collate_fn)\n",
        "t = Trainer(trainer_config)\n",
        "t.fit(clf_model, train_dataloader, val_dataloader)"
      ],
      "metadata": {
        "id": "UU0E5Tj78hiF"
      },
      "execution_count": null,
      "outputs": []
    },
    {
      "cell_type": "code",
      "source": [
        "t.save(\"baseline_model.ckpt\")"
      ],
      "metadata": {
        "id": "vdfUAJU61Y4d"
      },
      "execution_count": null,
      "outputs": []
    },
    {
      "cell_type": "code",
      "source": [
        "t = Trainer.load(\"baseline_model.ckpt\")"
      ],
      "metadata": {
        "id": "VTibPRxP1k48"
      },
      "execution_count": null,
      "outputs": []
    },
    {
      "cell_type": "code",
      "source": [
        "def predict_style(model, comment) -> int:\n",
        "    tok_text = word_tokenize(comment, language=\"russian\")\n",
        "    indexed_text = torch.tensor(vocab.vectorize(tok_text)).to(t.device)\n",
        "    rating = model(pack_sequence([indexed_text])).argmax().item()\n",
        "    return rating"
      ],
      "metadata": {
        "id": "zdYwVFtoy7rr"
      },
      "execution_count": null,
      "outputs": []
    },
    {
      "cell_type": "code",
      "source": [
        "y_pred = []\n",
        "\n",
        "for comm in X_test:\n",
        "    y_pred.append(predict_style(t.model, comm))\n",
        "\n",
        "y_pred = np.array(y_pred)"
      ],
      "metadata": {
        "id": "LjuC2gzAaGhI"
      },
      "execution_count": null,
      "outputs": []
    },
    {
      "cell_type": "code",
      "source": [
        "F1_score = f1_score(\n",
        "    y_pred,\n",
        "    y_test,\n",
        "    average=\"micro\",\n",
        ")\n",
        "\n",
        "print(f'F1: {F1_score}')"
      ],
      "metadata": {
        "colab": {
          "base_uri": "https://localhost:8080/"
        },
        "id": "UJ2KNROsDtSz",
        "outputId": "a79f93cc-6eb5-455a-b710-64066c720124"
      },
      "execution_count": null,
      "outputs": [
        {
          "output_type": "stream",
          "name": "stdout",
          "text": [
            "F1: 0.928\n"
          ]
        }
      ]
    },
    {
      "cell_type": "code",
      "source": [
        "conf_mat = confusion_matrix(y_test, y_pred)\n",
        "\n",
        "plot_confusion_matrix(conf_mat, [\n",
        "    \"Scientific style\", \n",
        "    \"Official-business style\",\n",
        "    \"Journalistic style\",\n",
        "    \"Conversation style\", \n",
        "    \"Art style\"])"
      ],
      "metadata": {
        "id": "i55RkiDuDbFc"
      },
      "execution_count": null,
      "outputs": []
    },
    {
      "cell_type": "code",
      "source": [
        "n = 2"
      ],
      "metadata": {
        "id": "MHCY81dgDE12"
      },
      "execution_count": null,
      "outputs": []
    },
    {
      "cell_type": "code",
      "source": [
        "X_test[y_test == y_pred][n]"
      ],
      "metadata": {
        "colab": {
          "base_uri": "https://localhost:8080/",
          "height": 36
        },
        "id": "nsmUsVGQDMVx",
        "outputId": "1822f851-c61d-4309-b86a-68cad59c3b30"
      },
      "execution_count": null,
      "outputs": [
        {
          "output_type": "execute_result",
          "data": {
            "text/plain": [
              "'в это год на единственный российский внутриконтинентальный антарктический станция восток приступить к строительство новый корпус'"
            ],
            "application/vnd.google.colaboratory.intrinsic+json": {
              "type": "string"
            }
          },
          "metadata": {},
          "execution_count": 177
        }
      ]
    },
    {
      "cell_type": "code",
      "source": [
        "y_test[y_pred == y_test][n]"
      ],
      "metadata": {
        "colab": {
          "base_uri": "https://localhost:8080/"
        },
        "id": "lM9qcoS0H_vo",
        "outputId": "0f0eb0c7-cfaa-499e-f8af-e892e38c2c5b"
      },
      "execution_count": null,
      "outputs": [
        {
          "output_type": "execute_result",
          "data": {
            "text/plain": [
              "2"
            ]
          },
          "metadata": {},
          "execution_count": 181
        }
      ]
    },
    {
      "cell_type": "code",
      "source": [],
      "metadata": {
        "id": "_UAIFdtTJBnm"
      },
      "execution_count": null,
      "outputs": []
    }
  ]
}